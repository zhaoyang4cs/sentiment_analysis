{
 "cells": [
  {
   "cell_type": "code",
   "execution_count": 1,
   "metadata": {},
   "outputs": [
    {
     "data": {
      "text/plain": [
       "2    4907\n",
       "0    2247\n",
       "1     174\n",
       "Name: label, dtype: int64"
      ]
     },
     "execution_count": 1,
     "metadata": {},
     "output_type": "execute_result"
    }
   ],
   "source": [
    "import pandas as pd\n",
    "import csv\n",
    "# df1 = pd.read_csv(\"./chnsenticorp/test.csv\", encoding = \"utf-8\")\n",
    "# df2 = pd.read_csv(\"./chnsenticorp/dev.csv\", encoding = \"utf-8\")\n",
    "# df3 = pd.read_csv(\"./data/train.csv\", encoding = \"utf-8\")\n",
    "data=pd.read_csv('./chnsenticorp/waimai.csv',encoding = 'utf-8')\n",
    "data = data[:6000]\n",
    "# df4 = pd.read_csv(\"./dianping.csv\", encoding = \"utf-8\")\n",
    "# df5 = pd.read_csv(\"./two_result.csv\", encoding = \"utf-8\")\n",
    "df = pd.read_csv(\"./kuaishou_final.csv\", encoding = 'utf-8')\n",
    "df['label'].value_counts()"
   ]
  },
  {
   "cell_type": "code",
   "execution_count": 5,
   "metadata": {},
   "outputs": [],
   "source": [
    "# label = pd.concat([df1['label'],df2['label'],df3['label'],df4['label'],df5['label']],axis=0,ignore_index=False)\n",
    "# comments = pd.concat([df1['comments'],df2['comments'],df3['comments'],df4['comments'],df5['comments']],axis=0,ignore_index=False)\n",
    "# cols = list(df4)\n",
    "# cols.insert(0,cols.pop(cols.index('label'))) # 2是将d放在哪一列，cols.pop(cols.index('d')) 是要换的d列\n",
    "# df4 = df4.loc[:,cols] # 开始按照\n",
    "# df4\n",
    "# result = pd.concat([df, data], ignore_index=True)\n",
    "all = pd.concat([df,data], ignore_index=True)\n",
    "all.to_csv('bilibili.csv', encoding = 'utf-8',index=0)\n"
   ]
  },
  {
   "cell_type": "code",
   "execution_count": 6,
   "metadata": {},
   "outputs": [
    {
     "data": {
      "text/plain": [
       "0    18350\n",
       "1    11642\n",
       "Name: label, dtype: int64"
      ]
     },
     "execution_count": 6,
     "metadata": {},
     "output_type": "execute_result"
    }
   ],
   "source": [
    "M = all['label'].value_counts()\n",
    "M"
   ]
  },
  {
   "cell_type": "code",
   "execution_count": 20,
   "metadata": {},
   "outputs": [
    {
     "data": {
      "text/html": [
       "<div>\n",
       "<style scoped>\n",
       "    .dataframe tbody tr th:only-of-type {\n",
       "        vertical-align: middle;\n",
       "    }\n",
       "\n",
       "    .dataframe tbody tr th {\n",
       "        vertical-align: top;\n",
       "    }\n",
       "\n",
       "    .dataframe thead th {\n",
       "        text-align: right;\n",
       "    }\n",
       "</style>\n",
       "<table border=\"1\" class=\"dataframe\">\n",
       "  <thead>\n",
       "    <tr style=\"text-align: right;\">\n",
       "      <th></th>\n",
       "      <th>comments</th>\n",
       "    </tr>\n",
       "  </thead>\n",
       "  <tbody>\n",
       "    <tr>\n",
       "      <th>0</th>\n",
       "      <td>这张三丰一点清新脱俗的世外高人的感觉都没有</td>\n",
       "    </tr>\n",
       "    <tr>\n",
       "      <th>1</th>\n",
       "      <td>张五侠的铁画银钩被导演吃了</td>\n",
       "    </tr>\n",
       "    <tr>\n",
       "      <th>2</th>\n",
       "      <td>我都没生，芷若都这么老了</td>\n",
       "    </tr>\n",
       "    <tr>\n",
       "      <th>3</th>\n",
       "      <td>老爸是最苦的啥都知道但啥都不能说  可怜</td>\n",
       "    </tr>\n",
       "    <tr>\n",
       "      <th>4</th>\n",
       "      <td>特别喜欢建国 不知道为啥</td>\n",
       "    </tr>\n",
       "    <tr>\n",
       "      <th>...</th>\n",
       "      <td>...</td>\n",
       "    </tr>\n",
       "    <tr>\n",
       "      <th>22190</th>\n",
       "      <td>那么多年，有没避孕措施，就生一个，奇怪...</td>\n",
       "    </tr>\n",
       "    <tr>\n",
       "      <th>22191</th>\n",
       "      <td>有史以来最帅俞岱岩，怎么下的去手，心疼</td>\n",
       "    </tr>\n",
       "    <tr>\n",
       "      <th>22192</th>\n",
       "      <td>就看不惯你俩！现在才多久就五哥素素的</td>\n",
       "    </tr>\n",
       "    <tr>\n",
       "      <th>22193</th>\n",
       "      <td>周芷若 :  丁师姐比芷若大不了几岁。这都还没芷若呢</td>\n",
       "    </tr>\n",
       "    <tr>\n",
       "      <th>22194</th>\n",
       "      <td>经典已成，只是来看赵敏周芷若得</td>\n",
       "    </tr>\n",
       "  </tbody>\n",
       "</table>\n",
       "<p>22195 rows × 1 columns</p>\n",
       "</div>"
      ],
      "text/plain": [
       "                         comments\n",
       "0           这张三丰一点清新脱俗的世外高人的感觉都没有\n",
       "1                   张五侠的铁画银钩被导演吃了\n",
       "2                    我都没生，芷若都这么老了\n",
       "3            老爸是最苦的啥都知道但啥都不能说  可怜\n",
       "4                   特别喜欢建国 不知道为啥 \n",
       "...                           ...\n",
       "22190      那么多年，有没避孕措施，就生一个，奇怪...\n",
       "22191         有史以来最帅俞岱岩，怎么下的去手，心疼\n",
       "22192          就看不惯你俩！现在才多久就五哥素素的\n",
       "22193  周芷若 :  丁师姐比芷若大不了几岁。这都还没芷若呢\n",
       "22194             经典已成，只是来看赵敏周芷若得\n",
       "\n",
       "[22195 rows x 1 columns]"
      ]
     },
     "execution_count": 20,
     "metadata": {},
     "output_type": "execute_result"
    }
   ],
   "source": [
    "result = pd.read_csv(\"./tencent_api.csv\", encoding = \"utf-8\")\n",
    "result = result.reset_index(drop=True)\n",
    "result.to_csv('tencent_api.csv', encoding='utf-8',index=0)\n",
    "result"
   ]
  },
  {
   "cell_type": "code",
   "execution_count": 3,
   "metadata": {},
   "outputs": [
    {
     "data": {
      "text/plain": [
       "0    14054\n",
       "2    14053\n",
       "1      246\n",
       "Name: label, dtype: int64"
      ]
     },
     "execution_count": 3,
     "metadata": {},
     "output_type": "execute_result"
    }
   ],
   "source": [
    "ten = pd.read_csv('eg_data.csv',encoding = 'utf-8')\n",
    "ten['label'].value_counts()"
   ]
  },
  {
   "cell_type": "code",
   "execution_count": 3,
   "metadata": {},
   "outputs": [
    {
     "name": "stdout",
     "output_type": "stream",
     "text": [
      "      label  negative_prob  positive_prob  confidence  \\\n",
      "0         2       0.000007       0.999993    0.999985   \n",
      "1         2       0.000012       0.999988    0.999974   \n",
      "2         2       0.299936       0.700064    0.333476   \n",
      "3         0       0.684039       0.315961    0.297865   \n",
      "4         2       0.171211       0.828789    0.619530   \n",
      "5         2       0.379484       0.620516    0.156702   \n",
      "6         0       0.579258       0.420742    0.065018   \n",
      "7         2       0.038938       0.961062    0.913471   \n",
      "8         2       0.000019       0.999981    0.999957   \n",
      "9         2       0.022302       0.977698    0.950440   \n",
      "10        2       0.000076       0.999924    0.999830   \n",
      "11        2       0.000006       0.999994    0.999986   \n",
      "12        2       0.056579       0.943421    0.874269   \n",
      "13        2       0.000007       0.999993    0.999985   \n",
      "14        2       0.016911       0.983089    0.962421   \n",
      "15        2       0.000006       0.999994    0.999986   \n",
      "16        2       0.000072       0.999928    0.999840   \n",
      "17        2       0.150332       0.849667    0.665928   \n",
      "19        0       0.816981       0.183019    0.593291   \n",
      "20        2       0.000007       0.999993    0.999985   \n",
      "22        2       0.000238       0.999762    0.999472   \n",
      "23        2       0.000006       0.999994    0.999986   \n",
      "24        2       0.000318       0.999682    0.999293   \n",
      "25        2       0.102940       0.897060    0.771245   \n",
      "26        2       0.052737       0.947263    0.882807   \n",
      "27        0       0.794040       0.205960    0.542311   \n",
      "28        0       0.793450       0.206550    0.541000   \n",
      "29        2       0.097200       0.902800    0.784001   \n",
      "30        2       0.037588       0.962412    0.916472   \n",
      "31        2       0.021309       0.978691    0.952646   \n",
      "...     ...            ...            ...         ...   \n",
      "7296      2       0.000730       0.999270    0.998379   \n",
      "7297      2       0.270932       0.729068    0.397929   \n",
      "7298      2       0.180473       0.819527    0.598949   \n",
      "7299      2       0.000023       0.999977    0.999948   \n",
      "7300      2       0.048069       0.951931    0.893179   \n",
      "7302      2       0.000008       0.999992    0.999981   \n",
      "7303      2       0.000006       0.999994    0.999986   \n",
      "7304      0       0.828688       0.171312    0.619307   \n",
      "7305      0       0.907208       0.092792    0.793796   \n",
      "7306      2       0.000019       0.999981    0.999958   \n",
      "7307      2       0.010063       0.989936    0.977637   \n",
      "7308      2       0.021433       0.978567    0.952371   \n",
      "7309      2       0.009800       0.990200    0.978223   \n",
      "7310      2       0.033120       0.966879    0.926399   \n",
      "7311      2       0.015115       0.984885    0.966412   \n",
      "7312      0       0.996136       0.003864    0.991413   \n",
      "7313      2       0.000014       0.999986    0.999969   \n",
      "7314      0       0.996177       0.003823    0.991505   \n",
      "7315      2       0.000006       0.999994    0.999986   \n",
      "7316      0       0.997073       0.002927    0.993496   \n",
      "7317      2       0.003665       0.996335    0.991856   \n",
      "7318      2       0.000057       0.999943    0.999873   \n",
      "7319      2       0.090883       0.909117    0.798037   \n",
      "7320      0       0.998746       0.001254    0.997214   \n",
      "7321      2       0.000693       0.999308    0.998461   \n",
      "7322      0       0.990992       0.009007    0.979983   \n",
      "7324      0       0.998367       0.001633    0.996370   \n",
      "7325      0       0.989328       0.010672    0.976284   \n",
      "7326      0       0.985918       0.014082    0.968707   \n",
      "7327      2       0.005263       0.994737    0.988305   \n",
      "\n",
      "                                               comments  \n",
      "0            向医护人员致敬[赞][赞][赞][赞][赞][玫瑰][玫瑰][玫瑰][玫瑰][玫瑰]  \n",
      "1           看到你们那么开心，我也开心，在疫情面前这条路，是很辛苦的，希望你们平安，加油，支持你们  \n",
      "2                                        注意安全.在外面保护好自己.  \n",
      "3                                              某些角度有点像乔  \n",
      "4                  没有嫌弃你们，只是据说还有复发可能性和无症状感染者，我们也有家人[爱心]  \n",
      "5                                     其实也有很多家长不喜欢你们[捂脸]  \n",
      "6     儿科医生必须要有耐心，爱心，一般小孩儿生病，我们做家长的会急躁，但也要分个轻重缓急，我们这边...  \n",
      "7                                                    小品  \n",
      "8                                         敬请期待，[爱心][爱心]  \n",
      "9                                               哦~[红脸蛋]  \n",
      "10                                           理性[玫瑰][玫瑰]  \n",
      "11    白衣天使们辛苦了致敬[赞][赞][赞][赞][赞][赞][玫瑰][玫瑰][玫瑰][玫瑰][玫...  \n",
      "12                                 [老铁][老铁][老铁][老铁][老铁]  \n",
      "13                  期待[赞][赞][赞][爱心][爱心][爱心][玫瑰][玫瑰][玫瑰]  \n",
      "14                                                医生好医生  \n",
      "15    中国加油[赞][赞][赞][赞][爱心][爱心][爱心][爱心][爱心][赞][赞][赞][...  \n",
      "16                                          非常喜欢麻婆豆腐[赞]  \n",
      "17                                     为毛我知道的是很多人挤破头都想去  \n",
      "19                         所以你们现在看都不用看就开检查单了是吗？这个理由确实不错  \n",
      "20    天使们你们辛苦了，你们也要保护好自己的身体。谢谢[玫瑰][玫瑰][玫瑰][玫瑰][玫瑰][玫...  \n",
      "22                                    珍惜身边平凡的每天，珍惜我们的亲人  \n",
      "23                          感谢你们！辛苦了！[赞][赞][赞][赞][赞][赞]  \n",
      "24                             [祈祷][祈祷][祈祷][祈祷][祈祷][祈祷]  \n",
      "25                                没有嫌弃，你们的安全，让我们觉得有希望啊。  \n",
      "26                                               我来，我可以  \n",
      "27                                            四大菜？第一次听说  \n",
      "28                                            你认识啊？[笑哭]  \n",
      "29                                      食在广州，味在四川，调和在中原  \n",
      "30                                   男生白大褂是挺好看而且这个男生还温柔  \n",
      "31                                             没事我能理解他!  \n",
      "...                                                 ...  \n",
      "7296                                             厉害[优秀]  \n",
      "7297                                               一天嗯是  \n",
      "7298                                     这个世界上只有一种病叫穷病。  \n",
      "7299                                             太对了[赞]  \n",
      "7300                                           [笑哭][笑哭]  \n",
      "7302                                             [赞][赞]  \n",
      "7303             向你们致敬[赞][赞][赞][爱心][爱心][爱心][祈祷][祈祷][祈祷]  \n",
      "7304                                  病了，好不好机会都是50%，信医生  \n",
      "7305                                         谁能不哭。中国加油！  \n",
      "7306                                             加油，会好的  \n",
      "7307                                            有担当的医生！  \n",
      "7308                                       我的天，爷爷四十[偷瞄]  \n",
      "7309                                       感恩的人永远运气都不会差  \n",
      "7310                                        我闺蜜麻麻14生的她.  \n",
      "7311                                                好温柔  \n",
      "7312                                           为啥嫌弃祝你健康  \n",
      "7313                              我心中的江值树啊！[爱心][爱心][爱心]  \n",
      "7314                                            比喻非常不恰当  \n",
      "7315                            这是之恩的好公民[赞][赞][赞][赞][赞]  \n",
      "7316  特殊情况都是请示主任，还有就是专门针对的专家。像感冒发烧的，真的有的家长很难理解，有一次四个...  \n",
      "7317                                              学霸关晓彤  \n",
      "7318                                   双向奔赴的爱情才更有意义[爱心]  \n",
      "7319                                                  有  \n",
      "7320                                           还不是钱闹的……  \n",
      "7321                                 小时候猪油拌饭，加酱油。[赞][赞]  \n",
      "7322  视频里的麒麟鱼鸡豆花早已经失传川菜成了被大家认为的重麻重辣其实当年湖广填川带来了什么大家品一...  \n",
      "7324                                 如果危重就不是在这看了，得先去急诊了  \n",
      "7325                   [吃瓜]这个女的，学校的生物老师初一一学期没上课嘛，连个都不知道  \n",
      "7326                           我23了连男的手都没摸过，话都没说过几句[大哭]  \n",
      "7327                                            关键没有添加剂  \n",
      "\n",
      "[7154 rows x 5 columns]\n",
      "The num of comments (all): 7154\n",
      "positive comments: 0\n",
      "neutral  comments: 4907\n",
      "negative comments: 2247\n"
     ]
    }
   ],
   "source": [
    "pd_all = pd.read_csv(r'kuaishou_final.csv', encoding = \"utf-8\")\n",
    "pd_all=pd_all[~pd_all['label'].isin([1])]\n",
    "print(pd_all)\n",
    "pd_all['label'] = pd_all.label.map(lambda x: 1 if x ==2 else 0)\n",
    "print('The num of comments (all): %d' % pd_all.shape[0])\n",
    "print('positive comments: %d' % pd_all[pd_all.label==2].shape[0])\n",
    "print('neutral  comments: %d' % pd_all[pd_all.label==1].shape[0])\n",
    "print('negative comments: %d' % pd_all[pd_all.label==0].shape[0])\n",
    "pd_all.index = range(len(pd_all))\n",
    "pd_all.to_csv(\"kuaishou_f.csv\", encoding = \"utf-8\", index = False)"
   ]
  },
  {
   "cell_type": "code",
   "execution_count": 5,
   "metadata": {},
   "outputs": [
    {
     "name": "stdout",
     "output_type": "stream",
     "text": [
      "The num of comments (all): 28107\n",
      "positive comments: 0\n",
      "neutral  comments: 14053\n",
      "negative comments: 14054\n"
     ]
    }
   ],
   "source": [
    "pd_all = pd.read_csv(r'gov_data.csv', encoding = \"utf-8\")\n",
    "\n",
    "print('The num of comments (all): %d' % pd_all.shape[0])\n",
    "print('positive comments: %d' % pd_all[pd_all.label==2].shape[0])\n",
    "print('neutral  comments: %d' % pd_all[pd_all.label==1].shape[0])\n",
    "print('negative comments: %d' % pd_all[pd_all.label==0].shape[0])"
   ]
  },
  {
   "cell_type": "code",
   "execution_count": null,
   "metadata": {},
   "outputs": [],
   "source": []
  }
 ],
 "metadata": {
  "kernelspec": {
   "display_name": "Python 3.6.13 64-bit ('gluon': conda)",
   "name": "python3613jvsc74a57bd01438e41c869bab27d6de8271b094666e679d1699dcb998df66ac2cae2ddf48a7"
  },
  "language_info": {
   "codemirror_mode": {
    "name": "ipython",
    "version": 3
   },
   "file_extension": ".py",
   "mimetype": "text/x-python",
   "name": "python",
   "nbconvert_exporter": "python",
   "pygments_lexer": "ipython3",
   "version": "3.6.13"
  },
  "orig_nbformat": 2
 },
 "nbformat": 4,
 "nbformat_minor": 2
}